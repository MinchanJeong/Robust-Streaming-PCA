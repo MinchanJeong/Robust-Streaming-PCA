{
 "cells": [
  {
   "cell_type": "code",
   "execution_count": 9,
   "id": "c31d0952",
   "metadata": {},
   "outputs": [],
   "source": [
    "import math, pickle, glob\n",
    "import numpy as np\n",
    "import matplotlib\n",
    "from matplotlib import pyplot as plt\n",
    "import matplotlib.pylab as pl\n",
    "matplotlib.rcParams['mathtext.fontset'] = 'stix'\n",
    "matplotlib.rcParams['font.family'] = 'STIXGeneral'\n",
    "matplotlib.rcParams['axes.linewidth'] = 0.8\n",
    "\n",
    "saveformat = '.eps' # or ''\n",
    "dpi = 1200\n",
    "paramtitle = False"
   ]
  },
  {
   "cell_type": "code",
   "execution_count": 10,
   "id": "9302e3ad",
   "metadata": {},
   "outputs": [
    {
     "name": "stdout",
     "output_type": "stream",
     "text": [
      "['./data/exp1a_noisy/101246.pickle', './data/exp1a_noisy/707861.pickle', './data/exp1a_noisy/279499.pickle', './data/exp1a_noisy/625474.pickle']\n",
      "4 data were loaded.\n",
      "[0.0, 5e-05, 3e-05, 1e-05]\n",
      "['./data/exp1a_oja/374225.pickle', './data/exp1a_oja/980012.pickle', './data/exp1a_oja/828438.pickle', './data/exp1a_oja/561240.pickle']\n",
      "4 data were loaded.\n",
      "[3e-05, 0.0, 5e-05, 1e-05]\n",
      "Hyper Dictionary Sample: \n",
      "T: 144000\n",
      "T_save: 100\n",
      "loop: 2\n",
      "k: 5\n",
      "p: 100\n",
      "sigma: 0.15\n",
      "gamma: 1e-05\n",
      "delta: 1.0\n",
      "algo: oja\n",
      "lp_list: [5.00000000e-01 3.33333333e-01 1.25000000e-01 1.00000000e-01\n",
      " 5.00000000e-02 3.33333333e-02 2.50000000e-02 1.66666667e-02\n",
      " 1.25000000e-02 1.00000000e-02 5.00000000e-03 3.33333333e-03\n",
      " 2.50000000e-03 1.66666667e-03 1.25000000e-03 1.00000000e-03\n",
      " 8.33333333e-04 6.66666667e-04 5.55555556e-04 5.00000000e-04\n",
      " 3.33333333e-04 2.50000000e-04 1.66666667e-04 1.25000000e-04\n",
      " 1.04166667e-04]\n",
      "rotate_type: True\n"
     ]
    }
   ],
   "source": [
    "for workspace in ['exp1a_noisy', 'exp1a_oja']:\n",
    "\n",
    "    label_dir = './data/{}/'.format(workspace)\n",
    "    wild_dir  = './data/{}/*.pickle'.format(workspace)\n",
    "\n",
    "    list_for_lpwise_dicts = []\n",
    "\n",
    "    count = 0\n",
    "\n",
    "    print(glob.glob(wild_dir))\n",
    "    for data_path in glob.glob(wild_dir):\n",
    "        with open(data_path, 'rb') as f:\n",
    "            hyperdict  = pickle.load(f)\n",
    "            lpwise_dict = pickle.load(f)\n",
    "            list_for_lpwise_dicts.append((hyperdict, lpwise_dict))\n",
    "            count += 1 \n",
    "\n",
    "    print('{} data were loaded.'.format(count))\n",
    "\n",
    "    algo = hyperdict['algo']\n",
    "    T, T_save, loop, k, p = hyperdict['T'], hyperdict['T_save'] ,hyperdict['loop'], hyperdict['k'], hyperdict['p']\n",
    "    sigma, delta = hyperdict['sigma'], hyperdict['delta']\n",
    "    learning_param_list = np.asarray(hyperdict['lp_list'])\n",
    "\n",
    "    #Gamma selection\n",
    "    allgamma = [x[0]['gamma'] for x in list_for_lpwise_dicts]\n",
    "\n",
    "    print([x[0]['gamma'] for x in list_for_lpwise_dicts])\n",
    "\n",
    "    if algo == 'noisy':\n",
    "        noisydict = list_for_lpwise_dicts\n",
    "        noisy_param_list   = learning_param_list\n",
    "    elif algo == 'oja':\n",
    "        ojadict = list_for_lpwise_dicts\n",
    "        oja_param_list   = learning_param_list\n",
    "    else:\n",
    "        raise NotImplementedError\n",
    "    \n",
    "\n",
    "print('Hyper Dictionary Sample: ')\n",
    "for k,v in hyperdict.items():\n",
    "    print('{}: {}'.format(k,v))"
   ]
  },
  {
   "cell_type": "markdown",
   "id": "64430c1a",
   "metadata": {},
   "source": [
    "## Convergence Graph"
   ]
  },
  {
   "cell_type": "code",
   "execution_count": 11,
   "id": "ce027826",
   "metadata": {},
   "outputs": [
    {
     "data": {
      "text/plain": [
       "<Figure size 864x576 with 0 Axes>"
      ]
     },
     "metadata": {},
     "output_type": "display_data"
    }
   ],
   "source": [
    "fig = plt.figure(figsize=(12,8),facecolor=(1, 1, 1))\n",
    "markers = ['o','h','s','^']\n",
    "sizes = [150,180,150,150]\n",
    "\n",
    "TITLESIZE = 40\n",
    "TICKSIZE  = 32\n",
    "LABELSIZE = 36\n",
    "LEGENDSIZE= 28\n",
    "\n",
    "# Basic settings\n",
    "#ub = 0.4\n",
    "\n",
    "# For \\delta plot\n",
    "ub = 0.65\n",
    "\n",
    "trim = False\n",
    "sparselabel = False #0, 3, 7... 만 label 부여\n",
    "save = True\n",
    "paramtitle=False\n",
    "\n",
    "lidx = 4\n",
    "\n",
    "handletextpad = 0.1"
   ]
  },
  {
   "cell_type": "markdown",
   "id": "6e7e2764",
   "metadata": {},
   "source": [
    "## Noisy Power Method"
   ]
  },
  {
   "cell_type": "code",
   "execution_count": 12,
   "id": "a580ac95",
   "metadata": {},
   "outputs": [
    {
     "name": "stdout",
     "output_type": "stream",
     "text": [
      "[[0.         0.         0.         1.        ]\n",
      " [0.32941169 0.20832    0.13266667 1.        ]\n",
      " [0.65882337 0.41664    0.26533333 1.        ]\n",
      " [0.98823506 0.62496    0.398      1.        ]]\n",
      "label=$\\Gamma=0e-5$, min=0.017501633841695532\n",
      "label=$\\Gamma=1e-5$, min=0.030897639495625892\n",
      "label=$\\Gamma=3e-5$, min=0.04342486152872328\n",
      "label=$\\Gamma=5e-5$, min=0.05542998228365992\n"
     ]
    },
    {
     "data": {
      "text/plain": [
       "<matplotlib.legend.Legend at 0x7f11c6d3af70>"
      ]
     },
     "execution_count": 12,
     "metadata": {},
     "output_type": "execute_result"
    }
   ],
   "source": [
    "ax_noisy = fig.add_subplot(1, 2, 1)\n",
    "colors = pl.cm.copper(np.linspace(0,0.8,len(noisydict)))\n",
    "print(colors)\n",
    "\n",
    "noisydict = sorted(noisydict, key=lambda v: (v[0]['p'],-v[0]['delta'],v[0]['gamma'],v[0]['k']))\n",
    "\n",
    "for c, (hyperdict, datadict_list) in enumerate(noisydict):\n",
    "    \n",
    "    lp_xaxis = np.copy(noisy_param_list)\n",
    "\n",
    "    # Extract Data\n",
    "    dist_array = np.zeros((loop,len(lp_xaxis)))    \n",
    "    for repeat,datadict in enumerate(datadict_list):\n",
    "\n",
    "        for lp_idx,lp in enumerate(lp_xaxis):\n",
    "            dist_array[repeat,lp_idx] = datadict[lp][-1] #np.average(datadict[lp][len(datadict[lp])//3:])\n",
    "    \n",
    "    #dist_array = np.flip(dist_array,axis=1) if algo=='oja' else dist_array\n",
    "    \n",
    "    # Set Label\n",
    "    #label_str = r'$(\\Gamma,\\delta,p)=({:.0e},{:.1f},{})$'.format(hyperdict['gamma'],hyperdict['delta'],hyperdict['p'])\n",
    "    label_str = r'$\\Gamma={:0.0f}e-5$'.format(hyperdict['gamma']*100000)\n",
    "    \n",
    "    # For \\delta plot\n",
    "    # label_str = r'$\\delta={:.1f}$'.format(hyperdict['delta'])\n",
    "        \n",
    "    avg = np.average(dist_array,axis=0)\n",
    "    std = np.std(dist_array,axis=0) / math.sqrt(loop)\n",
    "    \n",
    "    print('label={}, min={}'.format(label_str,np.min(avg)))\n",
    "    \n",
    "    # Trim unconverged data\n",
    "    \n",
    "    if trim:\n",
    "        if np.where(avg<ub)[0].size != 0:\n",
    "            args = np.where(avg<ub)[0]\n",
    "            #print(args)\n",
    "            lp_xaxis = lp_xaxis[args]\n",
    "            avg, std = avg[args], std[args]\n",
    "        \n",
    "    # Plot line\n",
    "    if sparselabel:\n",
    "        label_str = label_str if c%4==1 else '_nolegend_'\n",
    "        \n",
    "    lp_xaxis = lp_xaxis[lidx:]\n",
    "    avg = avg[lidx:]\n",
    "    std = std[lidx:]\n",
    "    \n",
    "    ax_noisy.plot(lp_xaxis,avg,ls='--',linewidth=2,color=colors[c],zorder=1)\n",
    "    ax_noisy.errorbar(lp_xaxis,avg,std,fmt='none', ecolor=colors[c],elinewidth=1,capsize=7,zorder=2)\n",
    "    \n",
    "    # Plot marker \n",
    "    signlist = np.ones(len(lp_xaxis))\n",
    "    arg = np.argmin(avg)\n",
    "    signlist[arg+1:] = -1\n",
    "    for jdx, sign in enumerate(signlist):\n",
    "        marker_s = (markers[c],sizes[c]) if sign==1 else (markers[c],sizes[c]*0.75)\n",
    "        color_s  = ('none',colors[c]) if sign==1 else (colors[c],'white')\n",
    "        if jdx == 0:\n",
    "            ax_noisy.scatter(lp_xaxis[jdx],avg[jdx],marker=marker_s[0],s=marker_s[1],color=color_s[1],edgecolors=color_s[0],linewidths=2,\\\n",
    "                           label=label_str,zorder=3)\n",
    "        else:\n",
    "            ax_noisy.scatter(lp_xaxis[jdx],avg[jdx],marker=marker_s[0],s=marker_s[1],color=color_s[1],edgecolors=color_s[0],linewidths=2,zorder=3)\n",
    "            \n",
    "if paramtitle:\n",
    "    title = 'Noisy Power Method'+r', $(\\delta,\\,\\sigma,\\,p/k)=({:.1f},\\,{:.2f},\\,{:d})$'.format(delta, sigma, p//k)\n",
    "    titlesize = 28\n",
    "else:\n",
    "    title = 'Noisy Power Method'\n",
    "    titlesize = TITLESIZE\n",
    "ax_noisy.set_title(title,fontsize=titlesize,pad=15)\n",
    "        \n",
    "ax_noisy.set_xlim(10,20000)\n",
    "ax_noisy.set_xticks([10.0,100.0,1000.0,10000,10000,10000])\n",
    "ax_noisy.set_xticklabels([r'$10^{1}$',r'$10^{2}$',r'$10^{3}$',r'$10^{4}$','',''],fontsize=TICKSIZE)\n",
    "ax_noisy.set_ylim(0.00,ub)\n",
    "ax_noisy.set_yticks([0.0,0.2,0.4,0.6])\n",
    "ax_noisy.set_yticklabels(['0','0.2','0.4','0.6'],fontsize=TICKSIZE)\n",
    "\n",
    "ax_noisy.set_xlabel(r'Block Size $B$',fontsize=LABELSIZE,labelpad=5)\n",
    "#ax_noisy.set_ylabel(r'$||\\,U_{k\\!\\!+\\!\\!1\\!:\\!p}\\,\\,{\\hat{U}_{1\\!:\\!k}^{\\,\\top}}\\,||_2$',fontsize=28,labelpad=15)\n",
    "ax_noisy.set_ylabel(r'$d({U}_{1\\!:\\!k}\\,,\\hat{U}_{1\\!:\\!k})$',fontsize=LABELSIZE,labelpad=15)\n",
    "ax_noisy.set_xscale(\"log\")\n",
    "\n",
    "ax_noisy.legend(loc=\"upper right\", fontsize=LEGENDSIZE,ncol=1,handletextpad=handletextpad,frameon=True,edgecolor='black')#,bbox_to_anchor=(-0.04,0.26))"
   ]
  },
  {
   "cell_type": "markdown",
   "id": "ad348fe5",
   "metadata": {},
   "source": [
    "## Oja's Algorithm"
   ]
  },
  {
   "cell_type": "code",
   "execution_count": 13,
   "id": "b93291f0",
   "metadata": {},
   "outputs": [
    {
     "name": "stdout",
     "output_type": "stream",
     "text": [
      "[[0.         0.         0.         1.        ]\n",
      " [0.24705882 0.24705873 0.34373402 1.        ]\n",
      " [0.49754902 0.56433819 0.62254893 1.        ]\n",
      " [0.79626218 0.86960784 0.86960781 1.        ]]\n",
      "label=$\\Gamma=0e-5$, min=0.012542155038163628\n",
      "label=$\\Gamma=1e-5$, min=0.030967291532284485\n",
      "label=$\\Gamma=3e-5$, min=0.043331510598975505\n",
      "label=$\\Gamma=5e-5$, min=0.05540840068832599\n"
     ]
    },
    {
     "data": {
      "text/plain": [
       "<matplotlib.legend.Legend at 0x7f11c36abb20>"
      ]
     },
     "execution_count": 13,
     "metadata": {},
     "output_type": "execute_result"
    }
   ],
   "source": [
    "ax_oja   = fig.add_subplot(1, 2, 2)\n",
    "colors = pl.cm.bone(np.linspace(0,0.85,len(ojadict)))\n",
    "print(colors)\n",
    "\n",
    "ojadict = sorted(ojadict, key=lambda v: (v[0]['p'],-v[0]['delta'],v[0]['gamma'],v[0]['k']))\n",
    "\n",
    "for c, (hyperdict, datadict_list) in enumerate(ojadict):\n",
    "\n",
    "    lp_xaxis = np.copy(oja_param_list)\n",
    "    \n",
    "    # Extract Data\n",
    "    dist_array = np.zeros((loop,len(lp_xaxis)))    \n",
    "    for repeat,datadict in enumerate(datadict_list):\n",
    "\n",
    "        for lp_idx,lp in enumerate(lp_xaxis):\n",
    "            dist_array[repeat,lp_idx] = datadict[lp][-1]\n",
    "    \n",
    "    #dist_array = np.flip(dist_array,axis=1) if algo=='oja' else dist_array\n",
    "    \n",
    "    # Set Label\n",
    "    # label_str = r'$(\\Gamma,\\delta,p)=({:.0e},{:.1f},{})$'.format(hyperdict['gamma'],hyperdict['delta'],hyperdict['p'])\n",
    "    label_str = r'$\\Gamma={:0.0f}e-5$'.format(hyperdict['gamma']*100000)\n",
    "    \n",
    "    # For \\delta plot\n",
    "    # label_str = r'$\\delta={:.1f}$'.format(hyperdict['delta'])\n",
    "        \n",
    "    avg = np.average(dist_array,axis=0)\n",
    "    std = np.std(dist_array,axis=0) / math.sqrt(loop)\n",
    "    \n",
    "    print('label={}, min={}'.format(label_str,np.min(avg)))\n",
    "    \n",
    "    # Trim unconverged data\n",
    "    \n",
    "    if trim:\n",
    "        if np.where(avg<ub)[0].size != 0:\n",
    "            args = np.where(avg<ub)[0]\n",
    "            #print(args)\n",
    "            lp_xaxis = lp_xaxis[args]\n",
    "            avg, std = avg[args], std[args]\n",
    "        \n",
    "    # Plot line\n",
    "    if sparselabel:\n",
    "        label_str = label_str if c%4==1 else '_nolegend_'\n",
    "        \n",
    "    lp_xaxis = lp_xaxis[lidx:]\n",
    "    avg = avg[lidx:]\n",
    "    std = std[lidx:]\n",
    "    \n",
    "    ax_oja.plot(lp_xaxis,avg,ls='--',linewidth=2,color=colors[c],zorder=1)\n",
    "    ax_oja.errorbar(lp_xaxis,avg,std,fmt='none', ecolor=colors[c],elinewidth=1,capsize=7,zorder=2)\n",
    "    \n",
    "    signlist = np.ones(len(lp_xaxis))\n",
    "    arg = np.argmin(avg)\n",
    "    signlist[arg+1:] = -1\n",
    "    for jdx, sign in enumerate(signlist):\n",
    "        marker_s = (markers[c],sizes[c]) if sign==1 else (markers[c],sizes[c]*0.75)\n",
    "        color_s   = ('none',colors[c]) if sign==1 else (colors[c],'white')\n",
    "        if jdx == 0:\n",
    "            ax_oja.scatter(lp_xaxis[jdx],avg[jdx],marker=marker_s[0],s=marker_s[1],color=color_s[1],edgecolors=color_s[0],linewidths=2,\\\n",
    "                           label=label_str,zorder=3)\n",
    "        else:\n",
    "            ax_oja.scatter(lp_xaxis[jdx],avg[jdx],marker=marker_s[0],s=marker_s[1],color=color_s[1],edgecolors=color_s[0],linewidths=2,zorder=3)\n",
    "\n",
    "\n",
    "if paramtitle:\n",
    "    title = 'Oja\\'s Algorithm'+r', $(\\delta,\\,\\sigma,\\,p/k)=({:.1f},\\,{:.2f},\\,{:d})$'.format(delta, sigma, p//k)\n",
    "    titlesize = 28\n",
    "else:\n",
    "    title = 'Oja\\'s Algorithm'\n",
    "    titlesize = TITLESIZE\n",
    "ax_oja.set_title(title,fontsize=titlesize,pad=15)\n",
    "        \n",
    "ax_oja.set_xlim(1.0/20000.0,1.0/10.0)\n",
    "ax_oja.set_xticks([1.0e-4,1.0e-3,1.0e-2,1.0e-1,1.0e-1,1.0e-1])\n",
    "ax_oja.set_xticklabels([r'$10^{-4}$',r'$10^{-3}$',r'$10^{-2}$',r'$10^{1}$','',''],fontsize=TICKSIZE)\n",
    "ax_oja.set_xscale(\"log\")\n",
    "ax_oja.invert_xaxis()\n",
    "ax_oja.set_ylim(0.00,ub)\n",
    "ax_oja.set_yticks([0.0,0.2,0.4,0.6])\n",
    "ax_oja.set_yticklabels(['','','',''],fontsize=TICKSIZE)\n",
    "\n",
    "ax_oja.set_xlabel(r'Learning Rate $\\zeta$',fontsize=LABELSIZE,labelpad=5)\n",
    "\n",
    "ax_oja.legend(loc=\"upper left\", fontsize=LEGENDSIZE,ncol=1,handletextpad=handletextpad,frameon=True,edgecolor='black')"
   ]
  },
  {
   "cell_type": "code",
   "execution_count": 14,
   "id": "50a5923d",
   "metadata": {},
   "outputs": [],
   "source": [
    "for axis in ['top','bottom','left','right']:\n",
    "    ax_oja.spines[axis].set_linewidth(1.5)\n",
    "    ax_noisy.spines[axis].set_linewidth(1.5)"
   ]
  },
  {
   "cell_type": "markdown",
   "id": "4106e738",
   "metadata": {},
   "source": [
    "# E.O.D"
   ]
  },
  {
   "cell_type": "code",
   "execution_count": 15,
   "id": "7cad261a",
   "metadata": {},
   "outputs": [
    {
     "name": "stderr",
     "output_type": "stream",
     "text": [
      "The PostScript backend does not support transparency; partially transparent artists will be rendered opaque.\n"
     ]
    }
   ],
   "source": [
    "fig.tight_layout()\n",
    "fig.savefig('./'+'noisy_oja'+saveformat,dpi=dpi)\n",
    "fig.savefig('./'+'noisy_oja'+'.png',dpi=dpi)"
   ]
  },
  {
   "cell_type": "code",
   "execution_count": null,
   "id": "11fb865d",
   "metadata": {},
   "outputs": [],
   "source": []
  }
 ],
 "metadata": {
  "kernelspec": {
   "display_name": "Full on Python 3.7 (GPU)",
   "language": "python",
   "name": "python3"
  },
  "language_info": {
   "codemirror_mode": {
    "name": "ipython",
    "version": 3
   },
   "file_extension": ".py",
   "mimetype": "text/x-python",
   "name": "python",
   "nbconvert_exporter": "python",
   "pygments_lexer": "ipython3",
   "version": "3.7.11"
  }
 },
 "nbformat": 4,
 "nbformat_minor": 5
}
