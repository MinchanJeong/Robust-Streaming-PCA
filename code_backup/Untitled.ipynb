{
 "cells": [
  {
   "cell_type": "code",
   "execution_count": 148,
   "id": "7d163065-de7d-4b8a-a520-3510a648977d",
   "metadata": {},
   "outputs": [],
   "source": [
    "import numpy as np\n",
    "import math\n",
    "sqrt2 = math.sqrt(2.0)\n",
    "davis_modified = True\n",
    "\n",
    "def fine_tune(b0,b1,b2,b3):\n",
    "    C1 = ( 1.5 * b2 - b1 ) >= (b1 * b2 * b3) * int(not davis_modified)\n",
    "    C2 = b3 * ( 1.0 + b2 ) < 1/sqrt2\n",
    "    \n",
    "    C3_bound = 1.25 * ( 1.0 - (1.8 + sqrt2) * b1 * b3 )\n",
    "    C3 = b0 <= C3_bound\n",
    "    \n",
    "    k   = ( 1.0 + b0 - b1 ) / ( b0 + b1 )\n",
    "    k_tilde = k / math.sqrt( 1.0 + math.pow(b3,2.0) * (k - 1.0) )\n",
    "    C4 = k_tilde >= 1.0 + b2\n",
    "    \n",
    "    return (C1 and C2 and C3 and C4), C3_bound , math.pow(b1*b3/1.5,-3)"
   ]
  },
  {
   "cell_type": "code",
   "execution_count": 150,
   "id": "b4a69521-338d-47a7-b202-f5628b05684a",
   "metadata": {},
   "outputs": [
    {
     "name": "stdout",
     "output_type": "stream",
     "text": [
      "True\n",
      "True\n"
     ]
    }
   ],
   "source": [
    "b0 = 0.1\n",
    "grid = 200\n",
    "\n",
    "b1 = np.linspace(0,0.5,num=grid+1,endpoint=False)[1:]\n",
    "b2 = np.linspace(0,1/sqrt2,num=grid+1,endpoint=False)[1:]\n",
    "b3 = np.linspace(0,1/sqrt2,num=grid+1,endpoint=False)[1:]\n",
    "\n",
    "b1_mat = np.repeat(b1[:,np.newaxis], grid, axis=1)\n",
    "b1_mat = np.repeat(b1_mat[:,:,np.newaxis], grid, axis=2)\n",
    "\n",
    "b2_mat = np.repeat(b2[np.newaxis,:], grid, axis=0)\n",
    "b2_mat = np.repeat(b2_mat[:,:,np.newaxis], grid, axis=2)\n",
    "\n",
    "b3_mat = np.repeat(b3[np.newaxis,:], grid, axis=0)\n",
    "b3_mat = np.repeat(b3_mat[np.newaxis,:,:], grid, axis=0)\n",
    "\n",
    "kappa_mat   = ( 1.0 + b0 - b1_mat ) / ( b0 + b1_mat )\n",
    "kappa_tilde = kappa_mat / np.sqrt( 1.0 + np.square(b3_mat) * (kappa_mat - 1.0) )\n",
    "\n",
    "print(np.all(b1_mat[:,0,0] == b1))\n",
    "print(np.all(kappa_tilde>0))"
   ]
  },
  {
   "cell_type": "code",
   "execution_count": 142,
   "id": "6a7498b6-f110-4127-8e51-c0cf87e88106",
   "metadata": {},
   "outputs": [],
   "source": [
    "C1 = ( 1.5 * b2_mat - b1_mat ) >= b1_mat * b2_mat * b3_mat * int(not davis_modified)\n",
    "\n",
    "C2 = b3_mat * ( 1.0 + b2_mat ) < 1/sqrt2\n",
    "\n",
    "C3 = b0 <= 1.25 * ( 1.0 - (1.8 + sqrt2) * b1_mat * b3_mat )\n",
    "\n",
    "C4 = kappa_tilde >= 1.0 + b2_mat\n",
    "\n",
    "Call = np.logical_and.reduce((C1,C2,C3,C4))\n",
    "\n",
    "M = np.max(b1_mat * b3_mat * Call.astype(int))\n",
    "argM = np.unravel_index(np.argmax(b1_mat * b3_mat * Call.astype(int)),(grid,grid,grid))"
   ]
  },
  {
   "cell_type": "code",
   "execution_count": 143,
   "id": "7a54f92a-4539-4805-b23f-bb39fcf71b51",
   "metadata": {},
   "outputs": [
    {
     "name": "stdout",
     "output_type": "stream",
     "text": [
      "beta_0: 0.1000\n",
      "Good Param Ratio: 0.4514\n",
      "\n",
      "Result coef: 289.6905\n",
      "Result idx: (164, 77, 156)\n",
      "Result param = (beta_1,beta_2,beta_3): (0.4104, 0.2744, 0.5523)\n"
     ]
    }
   ],
   "source": [
    "print('beta_0: {:.4f}'.format(b0))\n",
    "print('Good Param Ratio: {:.4f}'.format(np.sum(Call>0.5)/pow(grid,3)))\n",
    "print()\n",
    "print('Result coef: {:.4f}'.format(pow(M/1.5,-3)))\n",
    "print('Result idx: {}'.format(argM))\n",
    "print('Result param = (beta_1,beta_2,beta_3): ({:.4f}, {:.4f}, {:.4f})'.format(b1[argM[0]],b2[argM[1]],b3[argM[2]]))"
   ]
  },
  {
   "cell_type": "code",
   "execution_count": 133,
   "id": "5fcf5913-eae4-4b81-8b7d-c9420de9a632",
   "metadata": {},
   "outputs": [
    {
     "name": "stdout",
     "output_type": "stream",
     "text": [
      "(True, 0.39823340597112966, 354.2143850292523)\n"
     ]
    }
   ],
   "source": [
    "print(fine_tune(b0,0.4,0.32,0.53))"
   ]
  },
  {
   "cell_type": "code",
   "execution_count": 163,
   "id": "394e2fff-2b65-4dc1-bf94-66b59c6128e4",
   "metadata": {},
   "outputs": [
    {
     "name": "stdout",
     "output_type": "stream",
     "text": [
      "0.0018894049969536276\n",
      "0.35426343692880546\n"
     ]
    }
   ],
   "source": [
    "gamma = 1.0e-6\n",
    "delta = 0.02\n",
    "sigma = 0.005\n",
    "\n",
    "c = 32 * (math.pow(delta,4)+math.pow(sigma,4))\n",
    "T = 500000\n",
    "p = 100\n",
    "\n",
    "b1    = 0.4\n",
    "\n",
    "B = math.pow(c * p * math.log(T) / math.pow(gamma,2), 1/3)\n",
    "print(B*gamma)\n",
    "print(1.5 * math.pow(c*gamma*p*math.log(T),1/3)/ (b1 * delta))"
   ]
  },
  {
   "cell_type": "code",
   "execution_count": 1,
   "id": "0145e9b2-b4ab-4b65-a0ad-ea4f44d0128b",
   "metadata": {},
   "outputs": [],
   "source": [
    "import math, random, argparse, time, sys\n",
    "import numpy as np\n",
    "\n",
    "from numba import jit\n",
    "\n",
    "@jit(nopython=True)\n",
    "def get_norm(U):\n",
    "    dist = np.linalg.norm(U, ord=2)\n",
    "    \n",
    "    return dist"
   ]
  },
  {
   "cell_type": "code",
   "execution_count": 2,
   "id": "7594c825-5853-4ae7-b246-6eb8a917a8df",
   "metadata": {},
   "outputs": [
    {
     "name": "stdout",
     "output_type": "stream",
     "text": [
      "1.0\n"
     ]
    }
   ],
   "source": [
    "U = np.identity(5)\n",
    "\n",
    "print(get_norm(U))"
   ]
  },
  {
   "cell_type": "code",
   "execution_count": null,
   "id": "0fd946b1-f8fc-4e11-852f-500ddfed71b1",
   "metadata": {},
   "outputs": [],
   "source": []
  }
 ],
 "metadata": {
  "kernelspec": {
   "display_name": "Python 3 (ipykernel)",
   "language": "python",
   "name": "python3"
  },
  "language_info": {
   "codemirror_mode": {
    "name": "ipython",
    "version": 3
   },
   "file_extension": ".py",
   "mimetype": "text/x-python",
   "name": "python",
   "nbconvert_exporter": "python",
   "pygments_lexer": "ipython3",
   "version": "3.9.12"
  }
 },
 "nbformat": 4,
 "nbformat_minor": 5
}
