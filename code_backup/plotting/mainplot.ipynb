{
 "cells": [
  {
   "cell_type": "code",
   "execution_count": 1,
   "id": "45e2d17c-5410-4e35-bd28-0f1a918fc9ce",
   "metadata": {},
   "outputs": [],
   "source": [
    "import math, pickle, glob\n",
    "import numpy as np\n",
    "import matplotlib\n",
    "from matplotlib import pyplot as plt\n",
    "import matplotlib.pylab as pl\n",
    "matplotlib.rcParams['mathtext.fontset'] = 'stix'\n",
    "matplotlib.rcParams['font.family'] = 'STIXGeneral'\n",
    "matplotlib.rcParams['axes.linewidth'] = 0.8\n",
    "\n",
    "saveformat = '.eps' # or ''\n",
    "dpi = 1200\n",
    "paramtitle = False"
   ]
  },
  {
   "cell_type": "code",
   "execution_count": null,
   "id": "0f54f9a9-438a-473c-ae94-b60048b76a15",
   "metadata": {},
   "outputs": [],
   "source": [
    "one_label_one_data = False\n",
    "workspace = 'noisy'\n",
    "label     = 'noisy_normal3'\n",
    "figlabel = workspace\n",
    "\n",
    "targeton = False\n",
    "\n",
    "label_dir = '../data/{}/{}/'.format(workspace,label)\n",
    "wild_dir  = '../data/{}/{}/*.pickle'.format(workspace,label)\n",
    "\n",
    "list_for_lpwise_dicts = []\n",
    "\n",
    "count = 0\n",
    "\n",
    "label_list = glob.glob(label_dir)\n",
    "for label in label_list:\n",
    "    data_list = glob.glob(label+'*.pickle')\n",
    "    for data_path in data_list:\n",
    "        with open(data_path, 'rb') as f:\n",
    "            hyperdict  = pickle.load(f)\n",
    "            lpwise_dict = pickle.load(f)\n",
    "            list_for_lpwise_dicts.append((hyperdict, lpwise_dict))\n",
    "            count += 1 \n",
    "        if one_label_one_data:\n",
    "            break\n",
    "    \n",
    "print('{} data were loaded.'.format(count))\n",
    "\n",
    "algo = hyperdict['algo']\n",
    "T, T_save, loop, k, p = hyperdict['T'], hyperdict['T_save'] ,hyperdict['loop'], hyperdict['k'], hyperdict['p']\n",
    "sigma, delta = hyperdict['sigma'], hyperdict['delta']\n",
    "learning_param_list = np.asarray(hyperdict['lp_list'])\n",
    "\n",
    "#Gamma selection\n",
    "allgamma = [x[0]['gamma'] for x in list_for_lpwise_dicts]\n",
    "\n",
    "#target = np.asarray([0.0, 0.006, 0.01, 0.02, 0.04, 0.06, 0.08, 0.1]) * delta\n",
    "target = np.asarray([0.0, 0.00001, 0.00003, 0.00005]) * delta\n",
    "\n",
    "targetidx = []\n",
    "for idx, gamma in enumerate(allgamma):\n",
    "    if np.any(np.isclose(gamma, target)) or (not targeton):\n",
    "        targetidx.append(idx)\n",
    "list_for_lpwise_dicts = [list_for_lpwise_dicts[idx] for idx in targetidx]\n",
    "\n",
    "        \n",
    "print([x[0]['gamma'] for x in list_for_lpwise_dicts])\n",
    "\n",
    "if algo == 'noisy':\n",
    "    noisy_lpwise_dicts = list_for_lpwise_dicts\n",
    "    noisy_param_list   = learning_param_list\n",
    "elif algo == 'oja':\n",
    "    oja_lpwise_dicts = list_for_lpwise_dicts\n",
    "    oja_param_list   = learning_param_list\n",
    "else:\n",
    "    raise NotImplementedError\n",
    "\n",
    "print('Hyper Dictionary Sample: ')\n",
    "for k,v in hyperdict.items():\n",
    "    print('{}: {}'.format(k,v))"
   ]
  },
  {
   "cell_type": "code",
   "execution_count": 140,
   "id": "fedd53f2-d44d-4caa-85de-92e9a5946cc0",
   "metadata": {},
   "outputs": [],
   "source": [
    "if algo == 'oja':\n",
    "    ojadict  =  list_for_lpwise_dicts\n",
    "    oja_param_list = learning_param_list\n",
    "elif algo == 'noisy':\n",
    "    noisydict = list_for_lpwise_dicts\n",
    "    noisy_param_list = learning_param_list\n",
    "else:\n",
    "    print('NotImplemented')"
   ]
  },
  {
   "cell_type": "markdown",
   "id": "7f8d4b1a-55e2-425b-9536-499a6c42aa4a",
   "metadata": {},
   "source": [
    "## Convergence Graph"
   ]
  },
  {
   "cell_type": "code",
   "execution_count": 145,
   "id": "f2731bde-6258-40ad-9ef1-0c758a438bfd",
   "metadata": {},
   "outputs": [
    {
     "data": {
      "image/png": "[encoded data removed]",
      "text/plain": [
       "<Figure size 864x576 with 2 Axes>"
      ]
     },
     "metadata": {},
     "output_type": "display_data"
    }
   ],
   "source": [
    "fig = plt.figure(figsize=(12,8),facecolor=(1, 1, 1))\n",
    "ax_noisy = fig.add_subplot(1, 2, 1)\n",
    "ax_oja   = fig.add_subplot(1, 2, 2)\n",
    "markers = ['o','h','s','^']\n",
    "sizes = [150,180,150,150]\n",
    "\n",
    "# Basic settings\n",
    "#ub = 0.4\n",
    "\n",
    "# For \\delta plot\n",
    "ub = 0.3\n",
    "\n",
    "trim = True\n",
    "sparselabel = False #0, 3, 7... 만 label 부여\n",
    "save = True\n",
    "paramtitle=False"
   ]
  },
  {
   "cell_type": "markdown",
   "id": "81eccf3c-78f3-4f42-ac12-fab883b56f52",
   "metadata": {},
   "source": [
    "## Noisy Power Method"
   ]
  },
  {
   "cell_type": "code",
   "execution_count": 146,
   "id": "85c754f6-8ac3-452d-afb6-1398bb2ebd72",
   "metadata": {},
   "outputs": [
    {
     "name": "stdout",
     "output_type": "stream",
     "text": [
      "[[0.         0.         0.         1.        ]\n",
      " [0.32941169 0.20832    0.13266667 1.        ]\n",
      " [0.65882337 0.41664    0.26533333 1.        ]\n",
      " [0.98823506 0.62496    0.398      1.        ]]\n",
      "label=$\\delta=8.0$, min=0.013707216289348477\n",
      "label=$\\delta=4.0$, min=0.021145362900649733\n",
      "label=$\\delta=2.0$, min=0.03412540685015211\n",
      "label=$\\delta=1.0$, min=0.05429195537698844\n"
     ]
    },
    {
     "data": {
      "text/plain": [
       "<matplotlib.legend.Legend at 0x7f8c2be89220>"
      ]
     },
     "execution_count": 146,
     "metadata": {},
     "output_type": "execute_result"
    }
   ],
   "source": [
    "colors = pl.cm.copper(np.linspace(0,0.8,len(noisydict)))\n",
    "print(colors)\n",
    "\n",
    "noisydict = sorted(noisydict, key=lambda v: (v[0]['p'],-v[0]['delta'],v[0]['gamma'],v[0]['k']))\n",
    "\n",
    "for c, (hyperdict, datadict_list) in enumerate(noisydict):\n",
    "    \n",
    "    lp_xaxis = np.copy(noisy_param_list)\n",
    "\n",
    "    # Extract Data\n",
    "    dist_array = np.zeros((loop,len(lp_xaxis)))    \n",
    "    for repeat,datadict in enumerate(datadict_list):\n",
    "\n",
    "        for lp_idx,lp in enumerate(lp_xaxis):\n",
    "            dist_array[repeat,lp_idx] = np.average(datadict[lp][len(datadict[lp])//3:])\n",
    "    \n",
    "    #dist_array = np.flip(dist_array,axis=1) if algo=='oja' else dist_array\n",
    "    \n",
    "    # Set Label\n",
    "    #label_str = r'$(\\Gamma,\\delta,p)=({:.0e},{:.1f},{})$'.format(hyperdict['gamma'],hyperdict['delta'],hyperdict['p'])\n",
    "    #label_str = r'$\\Gamma={:.0e}$'.format(hyperdict['gamma'])\n",
    "    \n",
    "    # For \\delta plot\n",
    "    label_str = r'$\\delta={:.1f}$'.format(hyperdict['delta'])\n",
    "        \n",
    "    avg = np.average(dist_array,axis=0)\n",
    "    std = np.std(dist_array,axis=0)\n",
    "    \n",
    "    print('label={}, min={}'.format(label_str,np.min(avg)))\n",
    "    \n",
    "    # Trim unconverged data\n",
    "    \n",
    "    if trim:\n",
    "        if np.where(avg<ub)[0].size != 0:\n",
    "            args = np.where(avg<ub)[0]\n",
    "            #print(args)\n",
    "            lp_xaxis = lp_xaxis[args]\n",
    "            avg, std = avg[args], std[args]\n",
    "        \n",
    "    # Plot line\n",
    "    if sparselabel:\n",
    "        label_str = label_str if c%4==1 else '_nolegend_'\n",
    "    \n",
    "    ax_noisy.plot(lp_xaxis,avg,ls='--',linewidth=2,color=colors[c],zorder=1)\n",
    "    ax_noisy.errorbar(lp_xaxis,avg,std,fmt='none', ecolor=colors[c],elinewidth=2,capsize=0,zorder=2)\n",
    "    \n",
    "    # Plot marker \n",
    "    signlist = np.ones(len(lp_xaxis))\n",
    "    arg = np.argmin(avg)\n",
    "    signlist[arg+1:] = -1\n",
    "    for jdx, sign in enumerate(signlist):\n",
    "        marker_s = (markers[c],sizes[c]) if sign==1 else (markers[c],sizes[c]*0.75)\n",
    "        color_s  = ('none',colors[c]) if sign==1 else (colors[c],'white')\n",
    "        if jdx == 0:\n",
    "            ax_noisy.scatter(lp_xaxis[jdx],avg[jdx],marker=marker_s[0],s=marker_s[1],color=color_s[1],edgecolors=color_s[0],linewidths=2,\\\n",
    "                           label=label_str,zorder=3)\n",
    "        else:\n",
    "            ax_noisy.scatter(lp_xaxis[jdx],avg[jdx],marker=marker_s[0],s=marker_s[1],color=color_s[1],edgecolors=color_s[0],linewidths=2,zorder=3)\n",
    "            \n",
    "if paramtitle:\n",
    "    title = 'Noisy Power Method'+r', $(\\delta,\\,\\sigma,\\,p/k)=({:.1f},\\,{:.2f},\\,{:d})$'.format(delta, sigma, p//k)\n",
    "    titlesize = 28\n",
    "else:\n",
    "    title = 'Noisy Power Method'\n",
    "    titlesize = 36\n",
    "ax_noisy.set_title(title,fontsize=titlesize,pad=15)\n",
    "        \n",
    "ax_noisy.set_xlim(5,20000)\n",
    "ax_noisy.set_xticks([10.0,100.0,1000.0,10000,10000,10000])\n",
    "ax_noisy.set_xticklabels([r'$10^{1}$',r'$10^{2}$',r'$10^{3}$',r'$10^{4}$','',''],fontsize=24)\n",
    "ax_noisy.set_ylim(0.00,ub*1.05)\n",
    "ax_noisy.set_yticks([0.0,0.1,0.2,0.3])\n",
    "ax_noisy.set_yticklabels([0.0,0.1,0.2,0.3],fontsize=24)\n",
    "\n",
    "ax_noisy.set_xlabel(r'Block Size $B$',fontsize=28,labelpad=5)\n",
    "#ax_noisy.set_ylabel(r'$||\\,U_{k\\!\\!+\\!\\!1\\!:\\!p}\\,\\,{\\hat{U}_{1\\!:\\!k}^{\\,\\top}}\\,||_2$',fontsize=28,labelpad=15)\n",
    "ax_noisy.set_ylabel(r'$d({U}_{1\\!:\\!k}\\,,\\hat{U}_{1\\!:\\!k})$',fontsize=28,labelpad=15)\n",
    "ax_noisy.set_xscale(\"log\")\n",
    "\n",
    "ax_noisy.legend(loc=\"upper left\",bbox_to_anchor=(-0.04,0.26), fontsize=18,frameon=False,ncol=1)"
   ]
  },
  {
   "cell_type": "markdown",
   "id": "bfac7281-1b1b-44ee-8a8c-e7aa9d9cacf5",
   "metadata": {},
   "source": [
    "## Oja's Algorithm"
   ]
  },
  {
   "cell_type": "code",
   "execution_count": 147,
   "id": "b3e483e5-85df-45ff-9067-26783d62d60c",
   "metadata": {},
   "outputs": [
    {
     "name": "stdout",
     "output_type": "stream",
     "text": [
      "[[0.         0.         0.         1.        ]\n",
      " [0.24705882 0.24705873 0.34373402 1.        ]\n",
      " [0.49754902 0.56433819 0.62254893 1.        ]\n",
      " [0.79626218 0.86960784 0.86960781 1.        ]]\n",
      "label=$\\delta=8.0$, min=0.01344660629296346\n",
      "label=$\\delta=4.0$, min=0.021185843586534154\n",
      "label=$\\delta=2.0$, min=0.03459712683629876\n",
      "label=$\\delta=1.0$, min=0.053712499240422346\n"
     ]
    },
    {
     "data": {
      "text/plain": [
       "<matplotlib.legend.Legend at 0x7f8c39b6e9a0>"
      ]
     },
     "execution_count": 147,
     "metadata": {},
     "output_type": "execute_result"
    }
   ],
   "source": [
    "colors = pl.cm.bone(np.linspace(0,0.85,len(ojadict)))\n",
    "print(colors)\n",
    "\n",
    "ojadict = sorted(ojadict, key=lambda v: (v[0]['p'],-v[0]['delta'],v[0]['gamma'],v[0]['k']))\n",
    "\n",
    "for c, (hyperdict, datadict_list) in enumerate(ojadict):\n",
    "\n",
    "    lp_xaxis = np.copy(oja_param_list)\n",
    "    \n",
    "    # Extract Data\n",
    "    dist_array = np.zeros((loop,len(lp_xaxis)))    \n",
    "    for repeat,datadict in enumerate(datadict_list):\n",
    "\n",
    "        for lp_idx,lp in enumerate(lp_xaxis):\n",
    "            dist_array[repeat,lp_idx] = np.average(datadict[lp][-30:])\n",
    "        print(repeat)\n",
    "    \n",
    "    #dist_array = np.flip(dist_array,axis=1) if algo=='oja' else dist_array\n",
    "    \n",
    "    # Set Label\n",
    "    #label_str = r'$(\\Gamma,\\delta,p)=({:.0e},{:.1f},{})$'.format(hyperdict['gamma'],hyperdict['delta'],hyperdict['p'])\n",
    "    #label_str = r'$\\Gamma={:.0e}$'.format(hyperdict['gamma'])\n",
    "    \n",
    "    # For \\delta plot\n",
    "    label_str = r'$\\delta={:.1f}$'.format(hyperdict['delta'])\n",
    "        \n",
    "    avg = np.average(dist_array,axis=0)\n",
    "    std = np.std(dist_array,axis=0)\n",
    "    \n",
    "    print('label={}, min={}'.format(label_str,np.min(avg)))\n",
    "    \n",
    "    # Trim unconverged data\n",
    "    \n",
    "    if trim:\n",
    "        if np.where(avg<ub)[0].size != 0:\n",
    "            args = np.where(avg<ub)[0]\n",
    "            #print(args)\n",
    "            lp_xaxis = lp_xaxis[args]\n",
    "            avg, std = avg[args], std[args]\n",
    "        \n",
    "    # Plot line\n",
    "    if sparselabel:\n",
    "        label_str = label_str if c%4==1 else '_nolegend_'\n",
    "    \n",
    "    ax_oja.plot(lp_xaxis,avg,ls='--',linewidth=2,color=colors[c],zorder=1)\n",
    "    ax_oja.errorbar(lp_xaxis,avg,std,fmt='none', ecolor=colors[c],elinewidth=2,capsize=0,zorder=2)\n",
    "    \n",
    "    signlist = np.ones(len(lp_xaxis))\n",
    "    arg = np.argmin(avg)\n",
    "    signlist[arg+1:] = -1\n",
    "    for jdx, sign in enumerate(signlist):\n",
    "        marker_s = (markers[c],sizes[c]) if sign==1 else (markers[c],sizes[c]*0.75)\n",
    "        color_s   = ('none',colors[c]) if sign==1 else (colors[c],'white')\n",
    "        if jdx == 0:\n",
    "            ax_oja.scatter(lp_xaxis[jdx],avg[jdx],marker=marker_s[0],s=marker_s[1],color=color_s[1],edgecolors=color_s[0],linewidths=2,\\\n",
    "                           label=label_str,zorder=3)\n",
    "        else:\n",
    "            ax_oja.scatter(lp_xaxis[jdx],avg[jdx],marker=marker_s[0],s=marker_s[1],color=color_s[1],edgecolors=color_s[0],linewidths=2,zorder=3)\n",
    "\n",
    "\n",
    "if paramtitle:\n",
    "    title = 'Oja\\'s Algorithm'+r', $(\\delta,\\,\\sigma,\\,p/k)=({:.1f},\\,{:.2f},\\,{:d})$'.format(delta, sigma, p//k)\n",
    "    titlesize = 28\n",
    "else:\n",
    "    title = 'Oja\\'s Algorithm'\n",
    "    titlesize = 36\n",
    "ax_oja.set_title(title,fontsize=titlesize,pad=15)\n",
    "        \n",
    "ax_oja.set_xlim(1.0/20000.0,1.0/5.0)\n",
    "ax_oja.set_xticks([1.0e-4,1.0e-3,1.0e-2,1.0e-1,1.0e-1,1.0e-1])\n",
    "ax_oja.set_xticklabels([r'$10^{-4}$',r'$10^{-3}$',r'$10^{-2}$',r'$10^{1}$','',''],fontsize=24)\n",
    "ax_oja.set_xscale(\"log\")\n",
    "ax_oja.invert_xaxis()\n",
    "ax_oja.set_ylim(0.00,ub*1.05)\n",
    "ax_oja.set_yticks([0.0,0.1,0.2,0.3])\n",
    "ax_oja.set_yticklabels(['','','',''],fontsize=24)\n",
    "\n",
    "ax_oja.set_xlabel(r'Learning Rate $\\zeta$',fontsize=28,labelpad=5)\n",
    "\n",
    "ax_oja.legend(loc=\"upper left\",bbox_to_anchor=(-0.04,0.26), fontsize=18,frameon=False,ncol=1)"
   ]
  },
  {
   "cell_type": "code",
   "execution_count": 148,
   "id": "71bd3c06-1969-4e1c-ae64-78174ecafe3b",
   "metadata": {},
   "outputs": [],
   "source": [
    "fig.tight_layout()\n",
    "fig.savefig('../figs/'+'noisy_oja'+saveformat,dpi=dpi)"
   ]
  },
  {
   "cell_type": "markdown",
   "id": "2aea8eb6-1bf8-4e3f-810b-0f66e489a1fb",
   "metadata": {},
   "source": [
    "# E.O.D"
   ]
  }
 ],
 "metadata": {
  "kernelspec": {
   "display_name": "Python 3 (ipykernel)",
   "language": "python",
   "name": "python3"
  },
  "language_info": {
   "codemirror_mode": {
    "name": "ipython",
    "version": 3
   },
   "file_extension": ".py",
   "mimetype": "text/x-python",
   "name": "python",
   "nbconvert_exporter": "python",
   "pygments_lexer": "ipython3",
   "version": "3.9.12"
  }
 },
 "nbformat": 4,
 "nbformat_minor": 5
}
